{
 "cells": [
  {
   "cell_type": "code",
   "execution_count": 1,
   "id": "4b7f8802-775c-42c9-b7ca-3168b45087a0",
   "metadata": {},
   "outputs": [
    {
     "name": "stdout",
     "output_type": "stream",
     "text": [
      "This is an output\n"
     ]
    }
   ],
   "source": [
    "print(\"This is an output\")"
   ]
  },
  {
   "cell_type": "code",
   "execution_count": null,
   "id": "5eaa63dc-a16a-4041-9703-1140e03a9b1a",
   "metadata": {},
   "outputs": [],
   "source": []
  }
 ],
 "metadata": {
  "jupytext": {
   "formats": "ipynb,auto:percent"
  },
  "kernelspec": {
   "display_name": "Python 3 (ipykernel)",
   "language": "python",
   "name": "python3"
  },
  "language_info": {
   "codemirror_mode": {
    "name": "ipython",
    "version": 3
   },
   "file_extension": ".py",
   "mimetype": "text/x-python",
   "name": "python",
   "nbconvert_exporter": "python",
   "pygments_lexer": "ipython3",
   "version": "3.9.7"
  }
 },
 "nbformat": 4,
 "nbformat_minor": 5
}

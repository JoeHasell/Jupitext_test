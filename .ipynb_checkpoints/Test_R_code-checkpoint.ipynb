{
 "cells": [
  {
   "cell_type": "code",
   "execution_count": 1,
   "id": "4e8420cb-ddf7-4cb5-871c-afe8226bd36f",
   "metadata": {},
   "outputs": [
    {
     "name": "stderr",
     "output_type": "stream",
     "text": [
      "── \u001b[1mAttaching packages\u001b[22m ─────────────────────────────────────────────────────────────────────── tidyverse 1.3.1 ──\n",
      "\n",
      "\u001b[32m✔\u001b[39m \u001b[34mggplot2\u001b[39m 3.3.5     \u001b[32m✔\u001b[39m \u001b[34mpurrr  \u001b[39m 0.3.4\n",
      "\u001b[32m✔\u001b[39m \u001b[34mtibble \u001b[39m 3.1.6     \u001b[32m✔\u001b[39m \u001b[34mdplyr  \u001b[39m 1.0.7\n",
      "\u001b[32m✔\u001b[39m \u001b[34mtidyr  \u001b[39m 1.1.3     \u001b[32m✔\u001b[39m \u001b[34mstringr\u001b[39m 1.4.0\n",
      "\u001b[32m✔\u001b[39m \u001b[34mreadr  \u001b[39m 2.0.1     \u001b[32m✔\u001b[39m \u001b[34mforcats\u001b[39m 0.5.1\n",
      "\n",
      "── \u001b[1mConflicts\u001b[22m ────────────────────────────────────────────────────────────────────────── tidyverse_conflicts() ──\n",
      "\u001b[31m✖\u001b[39m \u001b[34mdplyr\u001b[39m::\u001b[32mfilter()\u001b[39m masks \u001b[34mstats\u001b[39m::filter()\n",
      "\u001b[31m✖\u001b[39m \u001b[34mdplyr\u001b[39m::\u001b[32mlag()\u001b[39m    masks \u001b[34mstats\u001b[39m::lag()\n",
      "\n"
     ]
    }
   ],
   "source": [
    "library(tidyverse)"
   ]
  },
  {
   "cell_type": "markdown",
   "id": "0cb27335-b0b7-42fb-a170-e9b6f9092ce2",
   "metadata": {},
   "source": [
    "Pulling in Michalis PIP data"
   ]
  },
  {
   "cell_type": "code",
   "execution_count": 3,
   "id": "c0dd08bb-6653-4a4a-9ab9-aec34df53ac9",
   "metadata": {},
   "outputs": [],
   "source": [
    "url<- \"https://raw.githubusercontent.com/owid/notebooks/main/MichalisMoatsos/MainDataCountriesOnlyNew.csv\"\n",
    "\n",
    "df <- read.csv(url, row.names = 1, header = T, sep = \";\", dec = \",\")\n"
   ]
  },
  {
   "cell_type": "code",
   "execution_count": 4,
   "id": "841b1ee7-1ee3-4d38-9afd-70b4f6038c1e",
   "metadata": {},
   "outputs": [
    {
     "data": {
      "text/html": [
       "<table class=\"dataframe\">\n",
       "<caption>A data.frame: 6 × 181</caption>\n",
       "<thead>\n",
       "\t<tr><th></th><th scope=col>Entity</th><th scope=col>Year</th><th scope=col>headcount_ratio_1_00</th><th scope=col>headcount_ratio_1_90</th><th scope=col>headcount_ratio_3_20</th><th scope=col>headcount_ratio_5_50</th><th scope=col>headcount_ratio_10_00</th><th scope=col>headcount_ratio_15_00</th><th scope=col>headcount_ratio_20_00</th><th scope=col>headcount_ratio_30_00</th><th scope=col>⋯</th><th scope=col>MaxHeadcountRatio</th><th scope=col>MonotonicityBreaks</th><th scope=col>MonotonicityBreaksDistinct</th><th scope=col>RowsWithIncreasingHeadcount</th><th scope=col>DataframeRowsForGpinter</th><th scope=col>reporting_gdp</th><th scope=col>reporting_pce</th><th scope=col>survey_coverage</th><th scope=col>ISO3Year</th><th scope=col>iso3typeyearwelfare</th></tr>\n",
       "\t<tr><th></th><th scope=col>&lt;chr&gt;</th><th scope=col>&lt;int&gt;</th><th scope=col>&lt;dbl&gt;</th><th scope=col>&lt;dbl&gt;</th><th scope=col>&lt;dbl&gt;</th><th scope=col>&lt;dbl&gt;</th><th scope=col>&lt;dbl&gt;</th><th scope=col>&lt;dbl&gt;</th><th scope=col>&lt;dbl&gt;</th><th scope=col>&lt;dbl&gt;</th><th scope=col>⋯</th><th scope=col>&lt;dbl&gt;</th><th scope=col>&lt;int&gt;</th><th scope=col>&lt;int&gt;</th><th scope=col>&lt;int&gt;</th><th scope=col>&lt;int&gt;</th><th scope=col>&lt;dbl&gt;</th><th scope=col>&lt;dbl&gt;</th><th scope=col>&lt;lgl&gt;</th><th scope=col>&lt;chr&gt;</th><th scope=col>&lt;chr&gt;</th></tr>\n",
       "</thead>\n",
       "<tbody>\n",
       "\t<tr><th scope=row>AllCols</th><td>AGO</td><td>1981</td><td>0.1188</td><td>0.2585</td><td>0.4657</td><td>0.7024</td><td>0.8879</td><td>0.9449</td><td>0.9693</td><td>0.9831</td><td>⋯</td><td>1</td><td>0</td><td>0</td><td>3414</td><td>980</td><td>3276.362</td><td>NA</td><td>NA</td><td>AGO1981</td><td>AGOnational1981consumption</td></tr>\n",
       "\t<tr><th scope=row>AllCols1</th><td>AGO</td><td>1982</td><td>0.1236</td><td>0.2710</td><td>0.4793</td><td>0.7175</td><td>0.8935</td><td>0.9462</td><td>0.9708</td><td>0.9847</td><td>⋯</td><td>1</td><td>0</td><td>0</td><td>3405</td><td>986</td><td>3162.004</td><td>NA</td><td>NA</td><td>AGO1982</td><td>AGOnational1982consumption</td></tr>\n",
       "\t<tr><th scope=row>AllCols2</th><td>AGO</td><td>1983</td><td>0.1232</td><td>0.2695</td><td>0.4769</td><td>0.7158</td><td>0.8932</td><td>0.9462</td><td>0.9705</td><td>0.9846</td><td>⋯</td><td>1</td><td>0</td><td>0</td><td>3425</td><td>977</td><td>3179.348</td><td>NA</td><td>NA</td><td>AGO1983</td><td>AGOnational1983consumption</td></tr>\n",
       "\t<tr><th scope=row>AllCols3</th><td>AGO</td><td>1984</td><td>0.1194</td><td>0.2614</td><td>0.4683</td><td>0.7060</td><td>0.8885</td><td>0.9454</td><td>0.9694</td><td>0.9832</td><td>⋯</td><td>1</td><td>0</td><td>0</td><td>3415</td><td>981</td><td>3252.108</td><td>NA</td><td>NA</td><td>AGO1984</td><td>AGOnational1984consumption</td></tr>\n",
       "\t<tr><th scope=row>AllCols4</th><td>AGO</td><td>1985</td><td>0.1196</td><td>0.2615</td><td>0.4690</td><td>0.7062</td><td>0.8889</td><td>0.9454</td><td>0.9696</td><td>0.9832</td><td>⋯</td><td>1</td><td>0</td><td>0</td><td>3416</td><td>980</td><td>3248.608</td><td>NA</td><td>NA</td><td>AGO1985</td><td>AGOnational1985consumption</td></tr>\n",
       "\t<tr><th scope=row>AllCols5</th><td>AGO</td><td>1986</td><td>0.1204</td><td>0.2636</td><td>0.4722</td><td>0.7095</td><td>0.8907</td><td>0.9454</td><td>0.9698</td><td>0.9832</td><td>⋯</td><td>1</td><td>0</td><td>0</td><td>3418</td><td>981</td><td>3226.817</td><td>NA</td><td>NA</td><td>AGO1986</td><td>AGOnational1986consumption</td></tr>\n",
       "</tbody>\n",
       "</table>\n"
      ],
      "text/latex": [
       "A data.frame: 6 × 181\n",
       "\\begin{tabular}{r|lllllllllllllllllllll}\n",
       "  & Entity & Year & headcount\\_ratio\\_1\\_00 & headcount\\_ratio\\_1\\_90 & headcount\\_ratio\\_3\\_20 & headcount\\_ratio\\_5\\_50 & headcount\\_ratio\\_10\\_00 & headcount\\_ratio\\_15\\_00 & headcount\\_ratio\\_20\\_00 & headcount\\_ratio\\_30\\_00 & ⋯ & MaxHeadcountRatio & MonotonicityBreaks & MonotonicityBreaksDistinct & RowsWithIncreasingHeadcount & DataframeRowsForGpinter & reporting\\_gdp & reporting\\_pce & survey\\_coverage & ISO3Year & iso3typeyearwelfare\\\\\n",
       "  & <chr> & <int> & <dbl> & <dbl> & <dbl> & <dbl> & <dbl> & <dbl> & <dbl> & <dbl> & ⋯ & <dbl> & <int> & <int> & <int> & <int> & <dbl> & <dbl> & <lgl> & <chr> & <chr>\\\\\n",
       "\\hline\n",
       "\tAllCols & AGO & 1981 & 0.1188 & 0.2585 & 0.4657 & 0.7024 & 0.8879 & 0.9449 & 0.9693 & 0.9831 & ⋯ & 1 & 0 & 0 & 3414 & 980 & 3276.362 & NA & NA & AGO1981 & AGOnational1981consumption\\\\\n",
       "\tAllCols1 & AGO & 1982 & 0.1236 & 0.2710 & 0.4793 & 0.7175 & 0.8935 & 0.9462 & 0.9708 & 0.9847 & ⋯ & 1 & 0 & 0 & 3405 & 986 & 3162.004 & NA & NA & AGO1982 & AGOnational1982consumption\\\\\n",
       "\tAllCols2 & AGO & 1983 & 0.1232 & 0.2695 & 0.4769 & 0.7158 & 0.8932 & 0.9462 & 0.9705 & 0.9846 & ⋯ & 1 & 0 & 0 & 3425 & 977 & 3179.348 & NA & NA & AGO1983 & AGOnational1983consumption\\\\\n",
       "\tAllCols3 & AGO & 1984 & 0.1194 & 0.2614 & 0.4683 & 0.7060 & 0.8885 & 0.9454 & 0.9694 & 0.9832 & ⋯ & 1 & 0 & 0 & 3415 & 981 & 3252.108 & NA & NA & AGO1984 & AGOnational1984consumption\\\\\n",
       "\tAllCols4 & AGO & 1985 & 0.1196 & 0.2615 & 0.4690 & 0.7062 & 0.8889 & 0.9454 & 0.9696 & 0.9832 & ⋯ & 1 & 0 & 0 & 3416 & 980 & 3248.608 & NA & NA & AGO1985 & AGOnational1985consumption\\\\\n",
       "\tAllCols5 & AGO & 1986 & 0.1204 & 0.2636 & 0.4722 & 0.7095 & 0.8907 & 0.9454 & 0.9698 & 0.9832 & ⋯ & 1 & 0 & 0 & 3418 & 981 & 3226.817 & NA & NA & AGO1986 & AGOnational1986consumption\\\\\n",
       "\\end{tabular}\n"
      ],
      "text/markdown": [
       "\n",
       "A data.frame: 6 × 181\n",
       "\n",
       "| <!--/--> | Entity &lt;chr&gt; | Year &lt;int&gt; | headcount_ratio_1_00 &lt;dbl&gt; | headcount_ratio_1_90 &lt;dbl&gt; | headcount_ratio_3_20 &lt;dbl&gt; | headcount_ratio_5_50 &lt;dbl&gt; | headcount_ratio_10_00 &lt;dbl&gt; | headcount_ratio_15_00 &lt;dbl&gt; | headcount_ratio_20_00 &lt;dbl&gt; | headcount_ratio_30_00 &lt;dbl&gt; | ⋯ ⋯ | MaxHeadcountRatio &lt;dbl&gt; | MonotonicityBreaks &lt;int&gt; | MonotonicityBreaksDistinct &lt;int&gt; | RowsWithIncreasingHeadcount &lt;int&gt; | DataframeRowsForGpinter &lt;int&gt; | reporting_gdp &lt;dbl&gt; | reporting_pce &lt;dbl&gt; | survey_coverage &lt;lgl&gt; | ISO3Year &lt;chr&gt; | iso3typeyearwelfare &lt;chr&gt; |\n",
       "|---|---|---|---|---|---|---|---|---|---|---|---|---|---|---|---|---|---|---|---|---|---|\n",
       "| AllCols | AGO | 1981 | 0.1188 | 0.2585 | 0.4657 | 0.7024 | 0.8879 | 0.9449 | 0.9693 | 0.9831 | ⋯ | 1 | 0 | 0 | 3414 | 980 | 3276.362 | NA | NA | AGO1981 | AGOnational1981consumption |\n",
       "| AllCols1 | AGO | 1982 | 0.1236 | 0.2710 | 0.4793 | 0.7175 | 0.8935 | 0.9462 | 0.9708 | 0.9847 | ⋯ | 1 | 0 | 0 | 3405 | 986 | 3162.004 | NA | NA | AGO1982 | AGOnational1982consumption |\n",
       "| AllCols2 | AGO | 1983 | 0.1232 | 0.2695 | 0.4769 | 0.7158 | 0.8932 | 0.9462 | 0.9705 | 0.9846 | ⋯ | 1 | 0 | 0 | 3425 | 977 | 3179.348 | NA | NA | AGO1983 | AGOnational1983consumption |\n",
       "| AllCols3 | AGO | 1984 | 0.1194 | 0.2614 | 0.4683 | 0.7060 | 0.8885 | 0.9454 | 0.9694 | 0.9832 | ⋯ | 1 | 0 | 0 | 3415 | 981 | 3252.108 | NA | NA | AGO1984 | AGOnational1984consumption |\n",
       "| AllCols4 | AGO | 1985 | 0.1196 | 0.2615 | 0.4690 | 0.7062 | 0.8889 | 0.9454 | 0.9696 | 0.9832 | ⋯ | 1 | 0 | 0 | 3416 | 980 | 3248.608 | NA | NA | AGO1985 | AGOnational1985consumption |\n",
       "| AllCols5 | AGO | 1986 | 0.1204 | 0.2636 | 0.4722 | 0.7095 | 0.8907 | 0.9454 | 0.9698 | 0.9832 | ⋯ | 1 | 0 | 0 | 3418 | 981 | 3226.817 | NA | NA | AGO1986 | AGOnational1986consumption |\n",
       "\n"
      ],
      "text/plain": [
       "         Entity Year headcount_ratio_1_00 headcount_ratio_1_90\n",
       "AllCols  AGO    1981 0.1188               0.2585              \n",
       "AllCols1 AGO    1982 0.1236               0.2710              \n",
       "AllCols2 AGO    1983 0.1232               0.2695              \n",
       "AllCols3 AGO    1984 0.1194               0.2614              \n",
       "AllCols4 AGO    1985 0.1196               0.2615              \n",
       "AllCols5 AGO    1986 0.1204               0.2636              \n",
       "         headcount_ratio_3_20 headcount_ratio_5_50 headcount_ratio_10_00\n",
       "AllCols  0.4657               0.7024               0.8879               \n",
       "AllCols1 0.4793               0.7175               0.8935               \n",
       "AllCols2 0.4769               0.7158               0.8932               \n",
       "AllCols3 0.4683               0.7060               0.8885               \n",
       "AllCols4 0.4690               0.7062               0.8889               \n",
       "AllCols5 0.4722               0.7095               0.8907               \n",
       "         headcount_ratio_15_00 headcount_ratio_20_00 headcount_ratio_30_00 ⋯\n",
       "AllCols  0.9449                0.9693                0.9831                ⋯\n",
       "AllCols1 0.9462                0.9708                0.9847                ⋯\n",
       "AllCols2 0.9462                0.9705                0.9846                ⋯\n",
       "AllCols3 0.9454                0.9694                0.9832                ⋯\n",
       "AllCols4 0.9454                0.9696                0.9832                ⋯\n",
       "AllCols5 0.9454                0.9698                0.9832                ⋯\n",
       "         MaxHeadcountRatio MonotonicityBreaks MonotonicityBreaksDistinct\n",
       "AllCols  1                 0                  0                         \n",
       "AllCols1 1                 0                  0                         \n",
       "AllCols2 1                 0                  0                         \n",
       "AllCols3 1                 0                  0                         \n",
       "AllCols4 1                 0                  0                         \n",
       "AllCols5 1                 0                  0                         \n",
       "         RowsWithIncreasingHeadcount DataframeRowsForGpinter reporting_gdp\n",
       "AllCols  3414                        980                     3276.362     \n",
       "AllCols1 3405                        986                     3162.004     \n",
       "AllCols2 3425                        977                     3179.348     \n",
       "AllCols3 3415                        981                     3252.108     \n",
       "AllCols4 3416                        980                     3248.608     \n",
       "AllCols5 3418                        981                     3226.817     \n",
       "         reporting_pce survey_coverage ISO3Year iso3typeyearwelfare       \n",
       "AllCols  NA            NA              AGO1981  AGOnational1981consumption\n",
       "AllCols1 NA            NA              AGO1982  AGOnational1982consumption\n",
       "AllCols2 NA            NA              AGO1983  AGOnational1983consumption\n",
       "AllCols3 NA            NA              AGO1984  AGOnational1984consumption\n",
       "AllCols4 NA            NA              AGO1985  AGOnational1985consumption\n",
       "AllCols5 NA            NA              AGO1986  AGOnational1986consumption"
      ]
     },
     "metadata": {},
     "output_type": "display_data"
    }
   ],
   "source": [
    "head(df)"
   ]
  },
  {
   "cell_type": "code",
   "execution_count": null,
   "id": "77f71389-247b-4a94-8669-8b18dbd28bb1",
   "metadata": {},
   "outputs": [],
   "source": []
  }
 ],
 "metadata": {
  "jupytext": {
   "formats": "ipynb,Rmd,auto:percent"
  },
  "kernelspec": {
   "display_name": "R",
   "language": "R",
   "name": "ir"
  },
  "language_info": {
   "codemirror_mode": "r",
   "file_extension": ".r",
   "mimetype": "text/x-r-source",
   "name": "R",
   "pygments_lexer": "r",
   "version": "4.1.1"
  }
 },
 "nbformat": 4,
 "nbformat_minor": 5
}
